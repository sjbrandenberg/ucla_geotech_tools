{
 "cells": [
  {
   "cell_type": "code",
   "execution_count": 9,
   "metadata": {},
   "outputs": [
    {
     "name": "stdout",
     "output_type": "stream",
     "text": [
      "Collecting ucla_geotech_tools.response_spectrum\n",
      "  Downloading https://files.pythonhosted.org/packages/09/2e/c3de8fd9bdf257337c1bfdda4dedee116d8a9f2d0760cd757794fc420bec/ucla_geotech_tools_response_spectrum-1.0.0-cp37-cp37m-win_amd64.whl (79kB)\n",
      "Installing collected packages: ucla-geotech-tools.response-spectrum\n",
      "Successfully installed ucla-geotech-tools.response-spectrum\n",
      "Note: you may need to restart the kernel to use updated packages.\n"
     ]
    }
   ],
   "source": [
    "pip install ucla_geotech_tools.response_spectrum"
   ]
  },
  {
   "cell_type": "code",
   "execution_count": 10,
   "metadata": {},
   "outputs": [
    {
     "ename": "AttributeError",
     "evalue": "module 'ucla_geotech_tools.response_spectrum' has no attribute 'get_ngawest2_T'",
     "output_type": "error",
     "traceback": [
      "\u001b[1;31m---------------------------------------------------------------------------\u001b[0m",
      "\u001b[1;31mAttributeError\u001b[0m                            Traceback (most recent call last)",
      "\u001b[1;32m<ipython-input-10-320d11271374>\u001b[0m in \u001b[0;36m<module>\u001b[1;34m\u001b[0m\n\u001b[0;32m     15\u001b[0m         \u001b[0mmotions\u001b[0m\u001b[1;33m[\u001b[0m\u001b[0mi\u001b[0m\u001b[1;33m]\u001b[0m\u001b[1;33m[\u001b[0m\u001b[0mj\u001b[0m\u001b[1;33m]\u001b[0m \u001b[1;33m=\u001b[0m \u001b[0mnp\u001b[0m\u001b[1;33m.\u001b[0m\u001b[0msin\u001b[0m\u001b[1;33m(\u001b[0m\u001b[1;36m2\u001b[0m\u001b[1;33m*\u001b[0m\u001b[0mnp\u001b[0m\u001b[1;33m.\u001b[0m\u001b[0mpi\u001b[0m\u001b[1;33m*\u001b[0m\u001b[0mfreq\u001b[0m\u001b[1;33m[\u001b[0m\u001b[0mi\u001b[0m\u001b[1;33m]\u001b[0m\u001b[1;33m*\u001b[0m\u001b[0mj\u001b[0m\u001b[1;33m*\u001b[0m\u001b[0mdt\u001b[0m\u001b[1;33m)\u001b[0m\u001b[1;33m\u001b[0m\u001b[1;33m\u001b[0m\u001b[0m\n\u001b[0;32m     16\u001b[0m \u001b[1;33m\u001b[0m\u001b[0m\n\u001b[1;32m---> 17\u001b[1;33m \u001b[0mT\u001b[0m \u001b[1;33m=\u001b[0m \u001b[0mars\u001b[0m\u001b[1;33m.\u001b[0m\u001b[0mget_ngawest2_T\u001b[0m\u001b[1;33m(\u001b[0m\u001b[1;33m)\u001b[0m\u001b[1;33m\u001b[0m\u001b[1;33m\u001b[0m\u001b[0m\n\u001b[0m\u001b[0;32m     18\u001b[0m \u001b[0mSa\u001b[0m \u001b[1;33m=\u001b[0m \u001b[0mars\u001b[0m\u001b[1;33m.\u001b[0m\u001b[0mget_response_spectrum\u001b[0m\u001b[1;33m(\u001b[0m\u001b[0mmotions\u001b[0m\u001b[1;33m=\u001b[0m\u001b[0mmotions\u001b[0m\u001b[1;33m,\u001b[0m \u001b[0mdt\u001b[0m\u001b[1;33m=\u001b[0m\u001b[0mdt\u001b[0m\u001b[1;33m,\u001b[0m \u001b[0mD\u001b[0m\u001b[1;33m=\u001b[0m\u001b[0mD\u001b[0m\u001b[1;33m,\u001b[0m \u001b[0mzeropad\u001b[0m\u001b[1;33m=\u001b[0m\u001b[1;36m0\u001b[0m\u001b[1;33m,\u001b[0m \u001b[0mverbose\u001b[0m\u001b[1;33m=\u001b[0m\u001b[1;36m0\u001b[0m\u001b[1;33m)\u001b[0m \u001b[1;31m# returns Python array containing pseudo-spectral acceleration values\u001b[0m\u001b[1;33m\u001b[0m\u001b[1;33m\u001b[0m\u001b[0m\n\u001b[0;32m     19\u001b[0m \u001b[1;33m\u001b[0m\u001b[0m\n",
      "\u001b[1;31mAttributeError\u001b[0m: module 'ucla_geotech_tools.response_spectrum' has no attribute 'get_ngawest2_T'"
     ]
    }
   ],
   "source": [
    "%matplotlib notebook\n",
    "import numpy as np\n",
    "import ucla_geotech_tools.response_spectrum as ars\n",
    "import matplotlib.pyplot as plt\n",
    "\n",
    "N = 4000               # Number of time steps\n",
    "M = 3                  # Number of motions\n",
    "dt = 0.005             # Time step in seconds\n",
    "D = 0.05               # Damping\n",
    "freq = [1.0, 3.0, 5.0] # Frequencies for three different harmonic motions\n",
    "\n",
    "motions = np.empty([M,N],dtype=\"float64\")\n",
    "for i in range(M):\n",
    "    for j in range(N):\n",
    "        motions[i][j] = np.sin(2*np.pi*freq[i]*j*dt)\n",
    "\n",
    "T = ars.get_ngawest2_T()\n",
    "Sa = ars.get_response_spectrum(motions=motions, dt=dt, D=D, zeropad=0, verbose=0) # returns Python array containing pseudo-spectral acceleration values \n",
    "\n",
    "for i in range(M):\n",
    "    plt.loglog(T,Sa[i],label=str(freq[i] + ' Hz')\n",
    "plt.xlabel('Natural Period (s)')\n",
    "plt.ylabel('Spectral Acceleration (g)')\n",
    "plt.savefig('spectral_acceleration.png')"
    "plt.legend()"
    "plt.grid(True,which='both')"
    "plt.savefig('spectral_acceleration.png')"
   ]
  }
 ],
 "metadata": {
  "kernelspec": {
   "display_name": "Python 3",
   "language": "python",
   "name": "python3"
  },
  "language_info": {
   "codemirror_mode": {
    "name": "ipython",
    "version": 3
   },
   "file_extension": ".py",
   "mimetype": "text/x-python",
   "name": "python",
   "nbconvert_exporter": "python",
   "pygments_lexer": "ipython3",
   "version": "3.7.4"
  }
 },
 "nbformat": 4,
 "nbformat_minor": 2
}

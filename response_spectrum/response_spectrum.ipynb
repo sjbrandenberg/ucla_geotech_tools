{
 "cells": [
  {
   "cell_type": "code",
   "execution_count": 6,
   "metadata": {},
   "outputs": [
    {
     "ename": "AttributeError",
     "evalue": "module 'ucla_geotech_tools.response_spectrum' has no attribute 'get_ngawest2_T'",
     "output_type": "error",
     "traceback": [
      "\u001b[1;31m---------------------------------------------------------------------------\u001b[0m",
      "\u001b[1;31mAttributeError\u001b[0m                            Traceback (most recent call last)",
      "\u001b[1;32m~\\AppData\\Local\\Temp/ipykernel_17436/817568000.py\u001b[0m in \u001b[0;36m<module>\u001b[1;34m\u001b[0m\n\u001b[0;32m     15\u001b[0m         \u001b[0mmotions\u001b[0m\u001b[1;33m[\u001b[0m\u001b[0mi\u001b[0m\u001b[1;33m]\u001b[0m\u001b[1;33m[\u001b[0m\u001b[0mj\u001b[0m\u001b[1;33m]\u001b[0m \u001b[1;33m=\u001b[0m \u001b[0mnp\u001b[0m\u001b[1;33m.\u001b[0m\u001b[0msin\u001b[0m\u001b[1;33m(\u001b[0m\u001b[1;36m2\u001b[0m\u001b[1;33m*\u001b[0m\u001b[0mnp\u001b[0m\u001b[1;33m.\u001b[0m\u001b[0mpi\u001b[0m\u001b[1;33m*\u001b[0m\u001b[0mfreq\u001b[0m\u001b[1;33m[\u001b[0m\u001b[0mi\u001b[0m\u001b[1;33m]\u001b[0m\u001b[1;33m*\u001b[0m\u001b[0mj\u001b[0m\u001b[1;33m*\u001b[0m\u001b[0mdt\u001b[0m\u001b[1;33m)\u001b[0m\u001b[1;33m\u001b[0m\u001b[1;33m\u001b[0m\u001b[0m\n\u001b[0;32m     16\u001b[0m \u001b[1;33m\u001b[0m\u001b[0m\n\u001b[1;32m---> 17\u001b[1;33m \u001b[0mT\u001b[0m \u001b[1;33m=\u001b[0m \u001b[0mars\u001b[0m\u001b[1;33m.\u001b[0m\u001b[0mget_ngawest2_T\u001b[0m\u001b[1;33m(\u001b[0m\u001b[1;33m)\u001b[0m\u001b[1;33m\u001b[0m\u001b[1;33m\u001b[0m\u001b[0m\n\u001b[0m\u001b[0;32m     18\u001b[0m \u001b[0mSa\u001b[0m \u001b[1;33m=\u001b[0m \u001b[0mars\u001b[0m\u001b[1;33m.\u001b[0m\u001b[0mget_response_spectrum\u001b[0m\u001b[1;33m(\u001b[0m\u001b[0mmotions\u001b[0m\u001b[1;33m=\u001b[0m\u001b[0mmotions\u001b[0m\u001b[1;33m,\u001b[0m \u001b[0mdt\u001b[0m\u001b[1;33m=\u001b[0m\u001b[0mdt\u001b[0m\u001b[1;33m,\u001b[0m \u001b[0mD\u001b[0m\u001b[1;33m=\u001b[0m\u001b[0mD\u001b[0m\u001b[1;33m,\u001b[0m \u001b[0mzeropad\u001b[0m\u001b[1;33m=\u001b[0m\u001b[1;36m0\u001b[0m\u001b[1;33m,\u001b[0m \u001b[0mverbose\u001b[0m\u001b[1;33m=\u001b[0m\u001b[1;36m0\u001b[0m\u001b[1;33m)\u001b[0m \u001b[1;31m# returns Python array containing pseudo-spectral acceleration values\u001b[0m\u001b[1;33m\u001b[0m\u001b[1;33m\u001b[0m\u001b[0m\n\u001b[0;32m     19\u001b[0m \u001b[1;33m\u001b[0m\u001b[0m\n",
      "\u001b[1;31mAttributeError\u001b[0m: module 'ucla_geotech_tools.response_spectrum' has no attribute 'get_ngawest2_T'"
     ]
    }
   ],
   "source": [
    "%matplotlib notebook\n",
    "import numpy as np\n",
    "from ucla_geotech_tools import response_spectrum as ars\n",
    "import matplotlib.pyplot as plt\n",
    "\n",
    "N = 4000               # Number of time steps\n",
    "M = 3                  # Number of motions\n",
    "dt = 0.005             # Time step in seconds\n",
    "D = 0.05               # Damping\n",
    "freq = [1.0, 3.0, 5.0] # Frequencies for three different harmonic motions\n",
    "\n",
    "motions = np.empty([M,N],dtype=\"float64\")\n",
    "for i in range(M):\n",
    "    for j in range(N):\n",
    "        motions[i][j] = np.sin(2*np.pi*freq[i]*j*dt)\n",
    "\n",
    "T = ars.get_ngawest2_T()\n",
    "Sa = ars.get_response_spectrum(motions=motions, dt=dt, D=D, zeropad=0, verbose=0) # returns Python array containing pseudo-spectral acceleration values \n",
    "\n",
    "for i in range(M):\n",
    "    plt.loglog(T,Sa[i],label=str(freq[i])+\" Hz\")\n",
    "plt.xlabel('Natural Period (s)')\n",
    "plt.ylabel('Spectral Acceleration (g)')\n",
    "plt.legend()\n",
    "plt.grid(True,which='both')\n",
    "plt.savefig('spectral_acceleration.png')\n"
   ]
  },
  {
   "cell_type": "code",
   "execution_count": 2,
   "metadata": {},
   "outputs": [
    {
     "ename": "AttributeError",
     "evalue": "module 'ucla_geotech_tools.response_spectrum' has no attribute 'get_ngawest2_T'",
     "output_type": "error",
     "traceback": [
      "\u001b[1;31m---------------------------------------------------------------------------\u001b[0m",
      "\u001b[1;31mAttributeError\u001b[0m                            Traceback (most recent call last)",
      "\u001b[1;32m~\\AppData\\Local\\Temp/ipykernel_18604/558596648.py\u001b[0m in \u001b[0;36m<module>\u001b[1;34m\u001b[0m\n\u001b[0;32m     14\u001b[0m \u001b[1;33m\u001b[0m\u001b[0m\n\u001b[0;32m     15\u001b[0m \u001b[0mmotions\u001b[0m \u001b[1;33m=\u001b[0m \u001b[1;33m[\u001b[0m\u001b[0macc1\u001b[0m\u001b[1;33m,\u001b[0m \u001b[0macc2\u001b[0m\u001b[1;33m]\u001b[0m\u001b[1;33m\u001b[0m\u001b[1;33m\u001b[0m\u001b[0m\n\u001b[1;32m---> 16\u001b[1;33m \u001b[0mT\u001b[0m \u001b[1;33m=\u001b[0m \u001b[0mars\u001b[0m\u001b[1;33m.\u001b[0m\u001b[0mget_ngawest2_T\u001b[0m\u001b[1;33m(\u001b[0m\u001b[1;33m)\u001b[0m\u001b[1;33m\u001b[0m\u001b[1;33m\u001b[0m\u001b[0m\n\u001b[0m\u001b[0;32m     17\u001b[0m \u001b[0mRotD\u001b[0m \u001b[1;33m=\u001b[0m \u001b[1;33m[\u001b[0m\u001b[1;36m10\u001b[0m\u001b[1;33m,\u001b[0m \u001b[1;36m50\u001b[0m\u001b[1;33m,\u001b[0m \u001b[1;36m90\u001b[0m\u001b[1;33m]\u001b[0m  \u001b[1;31m# Specify 10th, 50th, and 90th percentiles\u001b[0m\u001b[1;33m\u001b[0m\u001b[1;33m\u001b[0m\u001b[0m\n\u001b[0;32m     18\u001b[0m \u001b[0mSa\u001b[0m \u001b[1;33m=\u001b[0m \u001b[0mars\u001b[0m\u001b[1;33m.\u001b[0m\u001b[0mget_response_spectrum\u001b[0m\u001b[1;33m(\u001b[0m\u001b[0mmotions\u001b[0m\u001b[1;33m=\u001b[0m\u001b[0mmotions\u001b[0m\u001b[1;33m,\u001b[0m \u001b[0mdt\u001b[0m\u001b[1;33m=\u001b[0m\u001b[0mdt\u001b[0m\u001b[1;33m,\u001b[0m \u001b[0mD\u001b[0m\u001b[1;33m=\u001b[0m\u001b[0mD\u001b[0m\u001b[1;33m,\u001b[0m \u001b[0mzeropad\u001b[0m\u001b[1;33m=\u001b[0m\u001b[1;36m0\u001b[0m\u001b[1;33m,\u001b[0m \u001b[0mverbose\u001b[0m\u001b[1;33m=\u001b[0m\u001b[1;36m0\u001b[0m\u001b[1;33m,\u001b[0m \u001b[0mRotD\u001b[0m\u001b[1;33m=\u001b[0m\u001b[0mRotD\u001b[0m\u001b[1;33m)\u001b[0m \u001b[1;31m# returns Python array containing pseudo-spectral acceleration values for each specified RotD percentile\u001b[0m\u001b[1;33m\u001b[0m\u001b[1;33m\u001b[0m\u001b[0m\n",
      "\u001b[1;31mAttributeError\u001b[0m: module 'ucla_geotech_tools.response_spectrum' has no attribute 'get_ngawest2_T'"
     ]
    }
   ],
   "source": [
    "%matplotlib notebook\n",
    "import numpy as np\n",
    "import matplotlib.pyplot as plt\n",
    "import ucla_geotech_tools.response_spectrum as ars\n",
    "import pandas as pd\n",
    "\n",
    "D = 0.05  # Damping\n",
    "motion1 = pd.read_csv('20210102144223_BK_BDM_HHE.txt',sep=' ', names=['time (s)', 'acc (g)'])\n",
    "motion2 = pd.read_csv('20210102144223_BK_BDM_HHN.txt',sep=' ', names=['time (s)', 'acc (g)'])\n",
    "acc1 = motion1['acc (g)'].values\n",
    "acc2 = motion2['acc (g)'].values\n",
    "time = motion1['time (s)'].values\n",
    "dt = time[1] - time[0]\n",
    "\n",
    "motions = [acc1, acc2]\n",
    "T = ars.get_ngawest2_T()\n",
    "RotD = [10, 50, 90]  # Specify 10th, 50th, and 90th percentiles\n",
    "Sa = ars.get_response_spectrum(motions=motions, dt=dt, D=D, zeropad=0, verbose=0, RotD=RotD) # returns Python array containing pseudo-spectral acceleration values for each specified RotD percentile \n",
    "\n",
    "for rotd, sa in zip(RotD,Sa.T):\n",
    "    plt.loglog(T,sa,label=\"RotD\"+str(int(rotd)))\n",
    "    \n",
    "plt.xlabel('Natural Period (s)')\n",
    "plt.ylabel('Spectral Acceleration (g)')\n",
    "plt.legend()\n",
    "plt.grid(True,which='both')\n",
    "plt.tight_layout()"
   ]
  }
 ],
 "metadata": {
  "kernelspec": {
   "display_name": "Python 3 (ipykernel)",
   "language": "python",
   "name": "python3"
  },
  "language_info": {
   "codemirror_mode": {
    "name": "ipython",
    "version": 3
   },
   "file_extension": ".py",
   "mimetype": "text/x-python",
   "name": "python",
   "nbconvert_exporter": "python",
   "pygments_lexer": "ipython3",
   "version": "3.9.5"
  }
 },
 "nbformat": 4,
 "nbformat_minor": 2
}
